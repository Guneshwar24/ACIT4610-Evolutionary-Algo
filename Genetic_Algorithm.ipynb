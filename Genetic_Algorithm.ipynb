{
  "nbformat": 4,
  "nbformat_minor": 0,
  "metadata": {
    "colab": {
      "provenance": [],
      "authorship_tag": "ABX9TyOSX6AgVM5Rg7jNtl1GiPRd",
      "include_colab_link": true
    },
    "kernelspec": {
      "name": "python3",
      "display_name": "Python 3"
    },
    "language_info": {
      "name": "python"
    }
  },
  "cells": [
    {
      "cell_type": "markdown",
      "metadata": {
        "id": "view-in-github",
        "colab_type": "text"
      },
      "source": [
        "<a href=\"https://colab.research.google.com/github/Guneshwar24/ACIT4610-Evolutionary-Algo/blob/main/Genetic_Algorithm.ipynb\" target=\"_parent\"><img src=\"https://colab.research.google.com/assets/colab-badge.svg\" alt=\"Open In Colab\"/></a>"
      ]
    },
    {
      "cell_type": "markdown",
      "source": [
        "### GENETIC ALGORITHM"
      ],
      "metadata": {
        "id": "Y2L0bniykydj"
      }
    },
    {
      "cell_type": "code",
      "execution_count": 1,
      "metadata": {
        "colab": {
          "base_uri": "https://localhost:8080/",
          "height": 734
        },
        "id": "_bASAQ9qkxS2",
        "outputId": "fca98bf3-8c4d-4343-f33c-3f185b8ba25a"
      },
      "outputs": [
        {
          "output_type": "stream",
          "name": "stdout",
          "text": [
            "Enter the number of queens (n):  8\n",
            "Enter the initial placement of queens by column number separated by spaces (0-based indexing):\n",
            "Enter the column numbers for queen 1: 0,1,2,3,4,5,6,7\n",
            "Number of queens: 8\n",
            "Initial queen placements: [0, 1, 2, 3, 4, 5, 6, 7]\n",
            "Enter population size (default is 30): \n",
            "Enter tournament size (default is 5): \n",
            "Enter elite size (default is 4): \n",
            "Enter max generations (default is 2000): \n",
            "Enter mutation rate (default is 1): \n",
            "Enter crossover rate (default is 0.05): \n",
            "Generation 1: Best Fitness = 8\n",
            "Solution found!\n",
            "Solution Configuration:\n"
          ]
        },
        {
          "output_type": "display_data",
          "data": {
            "text/plain": [
              "<Figure size 640x480 with 1 Axes>"
            ],
            "image/png": "[encoded data removed]"
          },
          "metadata": {}
        },
        {
          "output_type": "stream",
          "name": "stdout",
          "text": [
            "Solution as an array: [0, 4, 7, 5, 2, 6, 1, 3]\n"
          ]
        }
      ],
      "source": [
        "import random\n",
        "import numpy as np\n",
        "import matplotlib.pyplot as plt\n",
        "\n",
        "def fitness(chromosome):\n",
        "    clashes = 0\n",
        "    n_queens = len(chromosome)\n",
        "    for i in range(n_queens):\n",
        "        for j in range(i + 1, n_queens):\n",
        "            if abs(chromosome[i] - chromosome[j]) == j - i:\n",
        "                clashes += 1\n",
        "    return n_queens - clashes\n",
        "\n",
        "def select_parents(population, tournament_size):\n",
        "    parents = []\n",
        "    for _ in range(2):\n",
        "        tournament = random.sample(population, tournament_size)\n",
        "        winner = max(tournament, key=fitness)\n",
        "        parents.append(winner)\n",
        "    return parents\n",
        "\n",
        "def order_crossover(parent1, parent2):\n",
        "    n = len(parent1)\n",
        "    start, end = sorted(random.sample(range(n), 2))\n",
        "    child = [-1] * n\n",
        "\n",
        "    child[start:end + 1] = parent1[start:end + 1]\n",
        "\n",
        "    for i in range(n):\n",
        "        if child[i] == -1:\n",
        "            for gene in parent2:\n",
        "                if gene not in child:\n",
        "                    child[i] = gene\n",
        "                    break\n",
        "\n",
        "    return child\n",
        "\n",
        "def mutate(chromosome, mutation_rate):\n",
        "    if random.random() < mutation_rate:\n",
        "        i, j = random.sample(range(len(chromosome)), 2)\n",
        "        chromosome[i], chromosome[j] = chromosome[j], chromosome[i]\n",
        "\n",
        "def replace_population(population, offspring, elite_size):\n",
        "    population.sort(key=fitness, reverse=True)\n",
        "    next_population = population[:elite_size]\n",
        "    next_population += offspring\n",
        "    return next_population\n",
        "\n",
        "def initialize_population(N, population_size):\n",
        "    population = [random.sample(range(N), N) for _ in range(population_size)]\n",
        "    return population\n",
        "\n",
        "def get_user_input():\n",
        "    while True:\n",
        "        n_queens = int(input(\"Enter the number of queens (n):  \"))\n",
        "        if n_queens >= 4:\n",
        "            break\n",
        "        else:\n",
        "            print(\"Please enter a value greater than or equal to 4.\")\n",
        "\n",
        "    initial_population = []\n",
        "\n",
        "    print(\"Enter the initial placement of queens by column number separated by spaces (0-based indexing):\")\n",
        "\n",
        "    while len(initial_population) < n_queens:\n",
        "        try:\n",
        "            cols = input(f\"Enter the column numbers for queen {len(initial_population) + 1}: \").strip().split(',')\n",
        "            cols = list(map(int, cols))\n",
        "\n",
        "            if len(cols) < n_queens - len(initial_population):\n",
        "                print(\"Not enough column numbers provided. Please provide positions for all queens.\")\n",
        "                continue\n",
        "\n",
        "            if any(cols.count(col) > 1 for col in cols):\n",
        "                print(\"Only one queen is allowed per column. Please provide valid positions.\")\n",
        "                continue\n",
        "\n",
        "            for col in cols:\n",
        "                if 0 <= col < n_queens:\n",
        "                    initial_population.append(col)\n",
        "                else:\n",
        "                    print(f\"Invalid column number. Column number should be between 0 and {n_queens - 1}, and seperated by comma and space.\")\n",
        "        except ValueError:\n",
        "            print(\"Invalid input. Please enter valid column numbers.\")\n",
        "\n",
        "    return n_queens, initial_population\n",
        "\n",
        "def solution_as_array(queen_positions):\n",
        "    return queen_positions\n",
        "\n",
        "def plot_solution(solution, title=\"n-Queens Solution\"):\n",
        "    if solution is None:\n",
        "        print(\"No solution found, so no plot will be generated.\")\n",
        "        return\n",
        "\n",
        "    board_size = len(solution)\n",
        "    chessboard = np.zeros((board_size, board_size), dtype=int)\n",
        "    for i in range(board_size):\n",
        "        for j in range(board_size):\n",
        "            if (i + j) % 2 == 0:\n",
        "                chessboard[i][j] = 1\n",
        "    fig, ax = plt.subplots()\n",
        "    cmap = plt.get_cmap('binary', 2)\n",
        "    ax.matshow(chessboard, cmap=cmap)\n",
        "    queen = u'\\u265B'  # Unicode character for queen\n",
        "    for row, col in enumerate(solution):\n",
        "        ax.text(col, row, queen, va='center', ha='center', color='red', fontsize=12)\n",
        "    plt.title(title)\n",
        "    plt.show()\n",
        "\n",
        "def genetic_algorithm(N, population_size, mutation_rate, crossover_rate, tournament_size, elite_size, max_generations):\n",
        "    population = initialize_population(N, population_size)\n",
        "    for generation in range(max_generations):\n",
        "        offspring = []\n",
        "        while len(offspring) < population_size - elite_size:\n",
        "            parents = select_parents(population, tournament_size)\n",
        "            if random.random() < crossover_rate:\n",
        "                child = order_crossover(parents[0], parents[1])\n",
        "            else:\n",
        "                child = parents[0][:]\n",
        "            mutate(child, mutation_rate)\n",
        "            offspring.append(child)\n",
        "        population = replace_population(population, offspring, elite_size)\n",
        "        best_fitness = fitness(max(population, key=fitness))\n",
        "        print(f\"Generation {generation + 1}: Best Fitness = {best_fitness}\")\n",
        "        if best_fitness == N:\n",
        "            print(\"Solution found!\")\n",
        "            solution = max(population, key=fitness)\n",
        "            print(\"Solution Configuration:\")\n",
        "            plot_solution(solution, title=f\"n-Queens Solution (Generation {generation + 1})\")\n",
        "            solution_array = solution_as_array(solution)\n",
        "            print(\"Solution as an array:\", solution_array)\n",
        "            break\n",
        "\n",
        "if __name__ == \"__main__\":\n",
        "    n_queens, initial_positions = get_user_input()\n",
        "    print(\"Number of queens:\", n_queens)\n",
        "    print(\"Initial queen placements:\", initial_positions)\n",
        "\n",
        "    population_size = int(input(\"Enter population size (default is 30): \") or 30)\n",
        "    tournament_size = int(input(\"Enter tournament size (default is 5): \") or 5)\n",
        "    elite_size = int(input(\"Enter elite size (default is 4): \") or 4)\n",
        "    max_generations = int(input(\"Enter max generations (default is 2000): \") or 2000)\n",
        "    mutation_rate = float(input(\"Enter mutation rate (default is 1): \") or 1)\n",
        "    crossover_rate = float(input(\"Enter crossover rate (default is 0.05): \") or 0.05)\n",
        "\n",
        "    genetic_algorithm(n_queens, population_size, mutation_rate, crossover_rate, tournament_size, elite_size, max_generations)"
      ]
    },
    {
      "cell_type": "code",
      "source": [],
      "metadata": {
        "id": "PllZ7fOHk-eG"
      },
      "execution_count": null,
      "outputs": []
    }
  ]
}