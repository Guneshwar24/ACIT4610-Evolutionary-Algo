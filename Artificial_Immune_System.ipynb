{
  "nbformat": 4,
  "nbformat_minor": 0,
  "metadata": {
    "colab": {
      "provenance": [],
      "authorship_tag": "ABX9TyOn3wg9wyCR2+oZXKo6Nup8",
      "include_colab_link": true
    },
    "kernelspec": {
      "name": "python3",
      "display_name": "Python 3"
    },
    "language_info": {
      "name": "python"
    }
  },
  "cells": [
    {
      "cell_type": "markdown",
      "metadata": {
        "id": "view-in-github",
        "colab_type": "text"
      },
      "source": [
        "<a href=\"https://colab.research.google.com/github/Guneshwar24/ACIT4610-Evolutionary-Algo/blob/main/Artificial_Immune_System.ipynb\" target=\"_parent\"><img src=\"https://colab.research.google.com/assets/colab-badge.svg\" alt=\"Open In Colab\"/></a>"
      ]
    },
    {
      "cell_type": "markdown",
      "source": [
        "### Artificial Immune System"
      ],
      "metadata": {
        "id": "hoWs8etll4Ph"
      }
    },
    {
      "cell_type": "code",
      "execution_count": 1,
      "metadata": {
        "colab": {
          "base_uri": "https://localhost:8080/",
          "height": 549
        },
        "id": "rSsCpIjolzKC",
        "outputId": "b1262558-78a0-48fc-b7ef-d4dc92a0d8d8"
      },
      "outputs": [
        {
          "output_type": "stream",
          "name": "stdout",
          "text": [
            "Enter the number of queens (N): 8\n",
            "Enter initial positions of queens separated by commas (or press enter to randomize): \n",
            "Generation 1: Best Fitness = 8\n",
            "Found a valid solution after 1 generations\n",
            "[3, 1, 7, 5, 0, 2, 4, 6]\n"
          ]
        },
        {
          "output_type": "display_data",
          "data": {
            "text/plain": [
              "<Figure size 640x480 with 1 Axes>"
            ],
            "image/png": "[encoded data removed]"
          },
          "metadata": {}
        }
      ],
      "source": [
        "import random\n",
        "import numpy as np\n",
        "import matplotlib.pyplot as plt\n",
        "\n",
        "def initialize_population(pop_size, n, initial_positions=None):\n",
        "    population = []\n",
        "    for _ in range(pop_size):\n",
        "        if initial_positions:\n",
        "            chromosome = initial_positions[:]\n",
        "        else:\n",
        "            chromosome = list(range(n))\n",
        "            random.shuffle(chromosome)\n",
        "        population.append(chromosome)\n",
        "    return population\n",
        "\n",
        "def fitness(chromosome):\n",
        "    n = len(chromosome)\n",
        "    conflicts = 0\n",
        "    for i in range(n):\n",
        "        for j in range(i + 1, n):\n",
        "            if chromosome[i] == chromosome[j] or abs(i - j) == abs(chromosome[i] - chromosome[j]):\n",
        "                conflicts += 1\n",
        "    return n - conflicts\n",
        "\n",
        "def clonal_selection(population, clone_rate, mutation_rate):\n",
        "    sorted_population = sorted(population, key=lambda x: -fitness(x))\n",
        "    n = len(sorted_population[0])\n",
        "    clone_population = []\n",
        "    for chromosome in sorted_population[:clone_rate]:\n",
        "        for _ in range(clone_rate):\n",
        "            clone = chromosome[:]\n",
        "            for i in range(n):\n",
        "                if random.random() < mutation_rate:\n",
        "                    j = random.randint(0, n - 1)\n",
        "                    clone[i], clone[j] = clone[j], clone[i]\n",
        "            clone_population.append(clone)\n",
        "    return clone_population\n",
        "\n",
        "def adapt_parameters(n):\n",
        "    if n <= 20:\n",
        "        pop_size = 100\n",
        "        clone_rate = 20\n",
        "        max_generations = 1000\n",
        "        mutation_rate = 0.1\n",
        "    else:\n",
        "        pop_size = 50\n",
        "        clone_rate = 40\n",
        "        max_generations = 2000\n",
        "        mutation_rate = 0.05\n",
        "    return pop_size, clone_rate, max_generations, mutation_rate\n",
        "\n",
        "def ais_queen(n, initial_positions=None):\n",
        "    if n < 4:\n",
        "        return None, 0\n",
        "    pop_size, clone_rate, max_generations, mutation_rate = adapt_parameters(n)\n",
        "    population = initialize_population(pop_size, n, initial_positions)\n",
        "    for generation in range(max_generations):\n",
        "        population = clonal_selection(population, clone_rate, mutation_rate)\n",
        "        best_chromosome = max(population, key=lambda x: fitness(x))\n",
        "        print(f\"Generation {generation + 1}: Best Fitness = {fitness(best_chromosome)}\")\n",
        "        if fitness(best_chromosome) == n:\n",
        "            return best_chromosome, generation + 1\n",
        "    return None, max_generations\n",
        "\n",
        "def plot_solution(solution, title=\"n-Queens Solution\"):\n",
        "    if solution is None:\n",
        "        print(\"No solution found, so no plot will be generated.\")\n",
        "        return\n",
        "\n",
        "    board_size = len(solution)\n",
        "    chessboard = np.zeros((board_size, board_size), dtype=int)\n",
        "    for i in range(board_size):\n",
        "        for j in range(board_size):\n",
        "            if (i + j) % 2 == 0:\n",
        "                chessboard[i][j] = 1\n",
        "    fig, ax = plt.subplots()\n",
        "    cmap = plt.get_cmap('binary', 2)\n",
        "    ax.matshow(chessboard, cmap=cmap)\n",
        "    queen = u'\\u265B'  # Unicode character for queen\n",
        "    for row, col in enumerate(solution):\n",
        "        ax.text(col, row, queen, va='center', ha='center', color='red', fontsize=12)\n",
        "    plt.title(title)\n",
        "    plt.show()\n",
        "\n",
        "if __name__ == \"__main__\":\n",
        "    n = int(input(\"Enter the number of queens (N): \"))\n",
        "    if n < 4:\n",
        "        print(\"The n-Queens problem is not valid for N less than 4.\")\n",
        "    else:\n",
        "        initial_positions = input(\"Enter initial positions of queens separated by commas (or press enter to randomize): \")\n",
        "        if initial_positions:\n",
        "            initial_positions = list(map(int, initial_positions.split(\",\")))\n",
        "            if len(initial_positions) != n:\n",
        "                print(\"Invalid initial positions length. No solution will be sought.\")\n",
        "                initial_positions = None\n",
        "                solution, generations = None, 0\n",
        "            elif len(set(initial_positions)) != n:\n",
        "                print(\"Invalid initial positions with duplicates. No solution will be sought.\")\n",
        "                initial_positions = None\n",
        "                solution, generations = None, 0\n",
        "            else:\n",
        "                plot_solution(initial_positions, \"Initial positions by user\")\n",
        "                solution, generations = ais_queen(n, initial_positions)\n",
        "        else:\n",
        "            solution, generations = ais_queen(n, None)\n",
        "        if solution:\n",
        "            print(f\"Found a valid solution after {generations} generations\")\n",
        "            print(solution)\n",
        "            plot_solution(solution, \"Final Solution\")\n",
        "        elif generations > 0:\n",
        "            print(f\"No solution found within {generations} generations.\")"
      ]
    },
    {
      "cell_type": "code",
      "source": [],
      "metadata": {
        "id": "sIsjnRPrmK9H"
      },
      "execution_count": null,
      "outputs": []
    }
  ]
}